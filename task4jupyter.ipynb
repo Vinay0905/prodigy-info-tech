{
 "cells": [
  {
   "cell_type": "code",
   "execution_count": 1,
   "id": "69b0d31d-9901-40ec-af4d-145e34254f2a",
   "metadata": {},
   "outputs": [
    {
     "name": "stdout",
     "output_type": "stream",
     "text": [
      "Requirement already satisfied: pynput in c:\\users\\nagav\\appdata\\local\\programs\\python\\python312\\lib\\site-packages (1.7.7)\n",
      "Requirement already satisfied: six in c:\\users\\nagav\\appdata\\local\\programs\\python\\python312\\lib\\site-packages (from pynput) (1.16.0)\n"
     ]
    },
    {
     "name": "stderr",
     "output_type": "stream",
     "text": [
      "\n",
      "[notice] A new release of pip is available: 24.2 -> 24.3.1\n",
      "[notice] To update, run: python.exe -m pip install --upgrade pip\n"
     ]
    }
   ],
   "source": [
    "!pip install pynput"
   ]
  },
  {
   "cell_type": "code",
   "execution_count": null,
   "id": "13f33de7-bce5-4d8e-9351-a60b089a1a72",
   "metadata": {},
   "outputs": [
    {
     "name": "stdout",
     "output_type": "stream",
     "text": [
      "Released Key.shift_r\n",
      "Released Key.enter\n",
      "Alphanumeric key s pressed\n",
      "Released 's'\n",
      "Special key Key.backspace pressed\n",
      "Released Key.backspace\n",
      "Alphanumeric key h pressed\n",
      "Released 'h'\n",
      "Alphanumeric key i pressed\n",
      "Released 'i'\n",
      "Special key Key.space pressed\n",
      "Released Key.space\n",
      "Alphanumeric key m pressed\n",
      "Released 'm'\n",
      "Alphanumeric key y pressed\n",
      "Released 'y'\n",
      "Special key Key.space pressed\n",
      "Released Key.space\n",
      "Alphanumeric key n pressed\n",
      "Alphanumeric key a pressed\n",
      "Released 'n'\n",
      "Released 'a'\n",
      "Alphanumeric key m pressed\n",
      "Released 'm'\n",
      "Alphanumeric key e pressed\n",
      "Released 'e'\n",
      "Special key Key.space pressed\n",
      "Released Key.space\n",
      "Alphanumeric key i pressed\n",
      "Released 'i'\n",
      "Alphanumeric key s pressed\n",
      "Special key Key.space pressed\n",
      "Released 's'\n",
      "Released Key.space\n",
      "Alphanumeric key v pressed\n",
      "Alphanumeric key i pressed\n",
      "Released 'v'\n",
      "Released 'i'\n",
      "Alphanumeric key n pressed\n",
      "Alphanumeric key a pressed\n",
      "Released 'n'\n",
      "Alphanumeric key y pressed\n",
      "Released 'a'\n",
      "Released 'y'\n",
      "Special key Key.ctrl_l pressed\n",
      "Special key Key.ctrl_l pressed\n",
      "Special key Key.ctrl_l pressed\n",
      "Special key Key.ctrl_l pressed\n",
      "Special key Key.ctrl_l pressed\n",
      "Special key Key.ctrl_l pressed\n",
      "Special key Key.ctrl_l pressed\n",
      "Special key Key.ctrl_l pressed\n",
      "Special key Key.ctrl_l pressed\n",
      "Released Key.ctrl_l\n",
      "Alphanumeric key s pressed\n",
      "Released 's'\n",
      "Alphanumeric key t pressed\n",
      "Alphanumeric key a pressed\n",
      "Released 't'\n",
      "Alphanumeric key s pressed\n",
      "Released 'a'\n",
      "Released 's'\n",
      "Alphanumeric key k pressed\n",
      "Released 'k'\n",
      "Alphanumeric key 4 pressed\n",
      "Released '4'\n",
      "Special key Key.enter pressed\n",
      "Released Key.enter\n"
     ]
    }
   ],
   "source": [
    "from pynput.keyboard import Listener\n",
    "\n",
    "# Function to log keys pressed\n",
    "def on_press(key):\n",
    "    try:\n",
    "        print(f'Alphanumeric key {key.char} pressed')\n",
    "    except AttributeError:\n",
    "        print(f'Special key {key} pressed')\n",
    "\n",
    "# Function to log when the key is released\n",
    "def on_release(key):\n",
    "    print(f'Released {key}')\n",
    "    if key == 'esc':\n",
    "        # Stop listener\n",
    "        return False\n",
    "\n",
    "# Collect events until released\n",
    "with Listener(on_press=on_press, on_release=on_release) as listener:\n",
    "    listener.join()\n"
   ]
  },
  {
   "cell_type": "code",
   "execution_count": null,
   "id": "fc30af31-11b4-4de6-bc46-518eb07c49fe",
   "metadata": {},
   "outputs": [],
   "source": [
    "hi my name is vinay"
   ]
  }
 ],
 "metadata": {
  "kernelspec": {
   "display_name": "Python 3 (ipykernel)",
   "language": "python",
   "name": "python3"
  },
  "language_info": {
   "codemirror_mode": {
    "name": "ipython",
    "version": 3
   },
   "file_extension": ".py",
   "mimetype": "text/x-python",
   "name": "python",
   "nbconvert_exporter": "python",
   "pygments_lexer": "ipython3",
   "version": "3.12.7"
  }
 },
 "nbformat": 4,
 "nbformat_minor": 5
}
